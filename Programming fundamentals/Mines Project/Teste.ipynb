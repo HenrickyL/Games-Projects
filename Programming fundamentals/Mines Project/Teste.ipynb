{
 "cells": [
  {
   "cell_type": "code",
   "execution_count": 1,
   "metadata": {},
   "outputs": [
    {
     "name": "stdout",
     "output_type": "stream",
     "text": [
      "pygame 1.9.6\n",
      "Hello from the pygame community. https://www.pygame.org/contribute.html\n"
     ]
    }
   ],
   "source": [
    "import pygame as pg # biblioteca de jogos\n",
    "from pygame.locals import *\n",
    "import pygame.font #trabalhar com fontes\n",
    "from time import sleep #pausar o sistema\n",
    "from random import randint #gerar numeros aleatórios\n",
    "import numpy as np #trabalhar com vetores e matemática em geral"
   ]
  },
  {
   "cell_type": "code",
   "execution_count": 6,
   "metadata": {},
   "outputs": [],
   "source": [
    "class Default: #Criada para deixar valores padrões.\n",
    "    window=[800,600] #dimensões da janela\n",
    "    title = \"Simulation @HenrickyL\"\n",
    "    Game_area=[window[0],window[1]] #comprimento e largura maximos (salvando para que os objetos tenham referencia pera não sair da tela )\n",
    "\n",
    "class APP:\n",
    "    def __init__(self): # \"metodo\" construtor : vou colocar muitas variaveis inicializadoras ou verificadoras\n",
    "        self.run=True;\n",
    "        self.BG= None #background\n",
    "        self.B=pg.Surface([10,10]) #objeto movel\n",
    "        self.begin=False\n",
    "        self.Key = False\n",
    "        self.M=pg.Surface([15,15])\n",
    "        self.Wd=Default.Game_area\n",
    "        self.pos=[self.Wd[0]/2,self.Wd[1]/2]\n",
    "        self.cont = 0\n",
    "        self.x=self.Wd[0]/4\n",
    "        self.y=self.Wd[1]/4\n",
    "        self.Speed =False\n",
    "        self.slow = False\n",
    "        self.buff=False\n",
    "        self.buff_c=0;\n",
    "    def Quit_game(self): #função que encerra a \"simulação\"\n",
    "        self.BG.fill([0,0,0]) #função fill aplicada no obejeto BG, ou seja pintar background de branco\n",
    "        pg.display.update() #dar uma atualização na tela\n",
    "        sleep(0.5)\n",
    "        pg.quit() #encerrar\n",
    "    def draw(self): #fazer os \"prints\" de tela\n",
    "        x,y=self.x,self.y #posições\n",
    "        B_pos=[x,y] #posição de B\n",
    "        if(self.buff==True):speed=5  #buff de velocidade\n",
    "        else: speed = 1.8\n",
    "        \n",
    "        #definindo a posição com base na anterior, e com as setas\n",
    "        #cont para reduzir a interação do movimento, so perecebe o botão nos multiplos de 10\n",
    "        if(self.cont%10==0 and self.begin==True and 0<=B_pos[0]<self.Wd[0] and 0<=B_pos[1]<self.Wd[1]):\n",
    "            if pygame.key.get_pressed()[K_UP]: # se apertar a ceta para cima modifica y\n",
    "                y-=speed\n",
    "            elif pygame.key.get_pressed()[K_DOWN]:\n",
    "                y+=speed\n",
    "            if pygame.key.get_pressed()[K_LEFT]:\n",
    "                x-=speed\n",
    "            elif pygame.key.get_pressed()[K_RIGHT]:\n",
    "                x+=speed\n",
    "        elif(not(0<=B_pos[0]<self.Wd[0] and 0<=B_pos[1]<self.Wd[1])): x,y=self.Wd[0]/4,self.Wd[1]/4\n",
    "        self.x,self.y=x,y\n",
    "        #mouse     \n",
    "        mouse=B_pos#pg.mouse.get_pos() #inicialmente estava fazendo par ao mouse, mas mudei para botões\n",
    "        self.B.fill([255,0,0])#pintando B de vermelho\n",
    "        B_pos=[x,y] # 2-upla com a posição\n",
    "        self.BG.blit(self.B,B_pos)#(mouse[0],mouse[1]))\n",
    "        \n",
    "        #objeto\n",
    "        dif=((mouse[0]-self.pos[0])**2+(mouse[1]-self.pos[1])**2)**0.5 #criando um raio usando (x^2+y^2= R^2)\n",
    "        #se o objeto dinamico(que se move com as setas) estiver dentro do raio  (150) do outro objeto e dentro dos limites da tela, ele se movimenta\n",
    "        if(dif<=150 and self.cont%10==0 and self.begin==True and 0<=self.pos[0]<self.Wd[0] and 0<=self.pos[1]<self.Wd[1]):\n",
    "            sinalx=sinaly=0 #sinais do vetor algebrico que orienta o movimento do objeto estatico\n",
    "            if(mouse[0]>self.pos[0]): sinalx =1\n",
    "            elif(mouse[0]<self.pos[0]): sinalx=-1\n",
    "            elif(mouse[0]==self.pos[0]): sinalx=0\n",
    "            if(mouse[1]>self.pos[1]): sinaly=1\n",
    "            elif(mouse[1]<self.pos[1]): sinaly=-1\n",
    "            elif(mouse[1]==self.pos[1]): sinaly=0\n",
    "            mod=((mouse[0]-self.pos[0])**2+(mouse[1]-self.pos[1])**2)**0.5 #o modulo do vetor, com base na distancia, logo é mais \n",
    "                                                                            #rapido quando está longe e devagar quando perto\n",
    "            if (self.Speed==True and self.begin==True): # para quero ele rapido uso esse modulo\n",
    "                #self.Speed=True\n",
    "                self.slow=False\n",
    "                V=[mod*sinalx,sinaly*mod]#[self.pos[0]-mouse[0],self.pos[1]-mouse[1]]\n",
    "            elif(self.slow==True and self.begin==True): # se não ele tem velocidade fixa\n",
    "                self.Speed=False\n",
    "    \n",
    "                V=[20*sinalx,20*sinaly]\n",
    "            self.pos=[self.pos[0]+V[0]/10,self.pos[1]+V[1]/10]\n",
    "            #if(mouse[0]==self.pos[] and mouse[1]==)\n",
    "        else: V=[0,0] #se sair do raio (150) ele para de se mover\n",
    "        self.M.fill([0,0,255])\n",
    "        self.BG.blit(self.M,self.pos)\n",
    "        pg.display.update()\n",
    "        \n",
    "    def main(self): #True,False,self.n)\n",
    "        pg.init()\n",
    "        #pg.font.init()\n",
    "        self.BG=pg.display.set_mode(Default.window)\n",
    "        pg.display.set_caption(Default.title)\n",
    "        self.BG.fill([255,255,255])\n",
    "        self.run=True     \n",
    "        self.settings()\n",
    "        self.Quit_game()\n",
    "    \n",
    "    def settings(self):\n",
    "        \n",
    "        while(self.run):\n",
    "            self.cont+=1\n",
    "            self.draw()\n",
    "            self.BG.fill([255,255,255])\n",
    "            for event in pg.event.get():\n",
    "                \n",
    "                if event.type == QUIT:\n",
    "                    self.run=False \n",
    "                if pygame.key.get_pressed()[K_c] :  #BOTÃO QUE INICIA\n",
    "                    self.begin=True\n",
    "                    self.slow=True\n",
    "                    self.Speed=False\n",
    "                if pygame.key.get_pressed()[K_x]:    #BOTÃO QUE DA O BUFF DO ESTATICO\n",
    "                    self.Speed = True\n",
    "                    self.slow=False\n",
    "                if pygame.key.get_pressed()[pg.K_z]: #BOTÃO QUE DA O BUFF DO DINÂMICO\n",
    "                    if(self.buff_c==0):\n",
    "                        self.buff = True\n",
    "                        self.buff_c=1;\n",
    "                    elif(self.buff_c!=0 or self.cont%10000==0):\n",
    "                        self.buff=False\n",
    "                        self.buff_c=0\n",
    "appgame=APP()\n",
    "appgame.main()"
   ]
  },
  {
   "cell_type": "code",
   "execution_count": 40,
   "metadata": {},
   "outputs": [
    {
     "data": {
      "text/plain": [
       "1"
      ]
     },
     "execution_count": 40,
     "metadata": {},
     "output_type": "execute_result"
    }
   ],
   "source": []
  },
  {
   "cell_type": "code",
   "execution_count": null,
   "metadata": {},
   "outputs": [],
   "source": []
  }
 ],
 "metadata": {
  "kernelspec": {
   "display_name": "Python 3",
   "language": "python",
   "name": "python3"
  },
  "language_info": {
   "codemirror_mode": {
    "name": "ipython",
    "version": 3
   },
   "file_extension": ".py",
   "mimetype": "text/x-python",
   "name": "python",
   "nbconvert_exporter": "python",
   "pygments_lexer": "ipython3",
   "version": "3.7.4"
  }
 },
 "nbformat": 4,
 "nbformat_minor": 2
}
